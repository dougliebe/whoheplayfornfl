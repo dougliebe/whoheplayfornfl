{
 "cells": [
  {
   "cell_type": "code",
   "execution_count": 1,
   "metadata": {
    "vscode": {
     "languageId": "r"
    }
   },
   "outputs": [
    {
     "name": "stderr",
     "output_type": "stream",
     "text": [
      "Installing package into 'C:/Users/liebe/AppData/Local/R/win-library/4.2'\n",
      "(as 'lib' is unspecified)\n",
      "\n"
     ]
    },
    {
     "name": "stdout",
     "output_type": "stream",
     "text": [
      "\n",
      "  There is a binary version available but the source version is later:\n",
      "         binary source needs_compilation\n",
      "nflreadr  1.4.0  1.4.1             FALSE\n",
      "\n"
     ]
    },
    {
     "name": "stderr",
     "output_type": "stream",
     "text": [
      "installing the source package 'nflreadr'\n",
      "\n",
      "\n"
     ]
    }
   ],
   "source": [
    "install.packages('nflreadr')"
   ]
  },
  {
   "cell_type": "code",
   "execution_count": 2,
   "metadata": {
    "vscode": {
     "languageId": "r"
    }
   },
   "outputs": [
    {
     "name": "stderr",
     "output_type": "stream",
     "text": [
      "Warning message:\n",
      "\"package 'tidyverse' was built under R version 4.2.3\"\n",
      "Warning message:\n",
      "\"package 'ggplot2' was built under R version 4.2.3\"\n",
      "Warning message:\n",
      "\"package 'tibble' was built under R version 4.2.3\"\n",
      "Warning message:\n",
      "\"package 'tidyr' was built under R version 4.2.3\"\n",
      "Warning message:\n",
      "\"package 'readr' was built under R version 4.2.3\"\n",
      "Warning message:\n",
      "\"package 'dplyr' was built under R version 4.2.3\"\n",
      "Warning message:\n",
      "\"package 'forcats' was built under R version 4.2.3\"\n",
      "Warning message:\n",
      "\"package 'lubridate' was built under R version 4.2.3\"\n",
      "── \u001b[1mAttaching core tidyverse packages\u001b[22m ──────────────────────── tidyverse 2.0.0 ──\n",
      "\u001b[32m✔\u001b[39m \u001b[34mdplyr    \u001b[39m 1.1.2     \u001b[32m✔\u001b[39m \u001b[34mreadr    \u001b[39m 2.1.4\n",
      "\u001b[32m✔\u001b[39m \u001b[34mforcats  \u001b[39m 1.0.0     \u001b[32m✔\u001b[39m \u001b[34mstringr  \u001b[39m 1.5.0\n",
      "\u001b[32m✔\u001b[39m \u001b[34mggplot2  \u001b[39m 3.5.0     \u001b[32m✔\u001b[39m \u001b[34mtibble   \u001b[39m 3.2.1\n",
      "\u001b[32m✔\u001b[39m \u001b[34mlubridate\u001b[39m 1.9.2     \u001b[32m✔\u001b[39m \u001b[34mtidyr    \u001b[39m 1.3.0\n",
      "\u001b[32m✔\u001b[39m \u001b[34mpurrr    \u001b[39m 1.0.1     \n",
      "── \u001b[1mConflicts\u001b[22m ────────────────────────────────────────── tidyverse_conflicts() ──\n",
      "\u001b[31m✖\u001b[39m \u001b[34mdplyr\u001b[39m::\u001b[32mfilter()\u001b[39m masks \u001b[34mstats\u001b[39m::filter()\n",
      "\u001b[31m✖\u001b[39m \u001b[34mdplyr\u001b[39m::\u001b[32mlag()\u001b[39m    masks \u001b[34mstats\u001b[39m::lag()\n",
      "\u001b[36mℹ\u001b[39m Use the conflicted package (\u001b[3m\u001b[34m<http://conflicted.r-lib.org/>\u001b[39m\u001b[23m) to force all conflicts to become errors\n"
     ]
    }
   ],
   "source": [
    "library(tidyverse)\n",
    "library(nflreadr)"
   ]
  },
  {
   "cell_type": "code",
   "execution_count": 31,
   "metadata": {
    "vscode": {
     "languageId": "r"
    }
   },
   "outputs": [],
   "source": [
    "data <- load_player_stats(2010:2024)"
   ]
  },
  {
   "cell_type": "code",
   "execution_count": 34,
   "metadata": {
    "vscode": {
     "languageId": "r"
    }
   },
   "outputs": [
    {
     "data": {
      "text/html": [
       "<table class=\"dataframe\">\n",
       "<caption>A nflverse_data: 3 × 3</caption>\n",
       "<thead>\n",
       "\t<tr><th scope=col>player_id</th><th scope=col>player_display_name</th><th scope=col>headshot_url</th></tr>\n",
       "\t<tr><th scope=col>&lt;chr&gt;</th><th scope=col>&lt;chr&gt;</th><th scope=col>&lt;chr&gt;</th></tr>\n",
       "</thead>\n",
       "<tbody>\n",
       "\t<tr><td>00-0020245</td><td>Mike Vick       </td><td>https://static.www.nfl.com/image/private/f_auto,q_auto/league/hrg4riwhpjbijfovsjrk</td></tr>\n",
       "\t<tr><td>00-0024394</td><td>Lawrence Vickers</td><td>NA                                                                                </td></tr>\n",
       "\t<tr><td>00-0029547</td><td>Vick Ballard    </td><td>https://static.www.nfl.com/image/private/f_auto,q_auto/league/uggql1lgrwzanbof6mfd</td></tr>\n",
       "</tbody>\n",
       "</table>\n"
      ],
      "text/latex": [
       "A nflverse\\_data: 3 × 3\n",
       "\\begin{tabular}{lll}\n",
       " player\\_id & player\\_display\\_name & headshot\\_url\\\\\n",
       " <chr> & <chr> & <chr>\\\\\n",
       "\\hline\n",
       "\t 00-0020245 & Mike Vick        & https://static.www.nfl.com/image/private/f\\_auto,q\\_auto/league/hrg4riwhpjbijfovsjrk\\\\\n",
       "\t 00-0024394 & Lawrence Vickers & NA                                                                                \\\\\n",
       "\t 00-0029547 & Vick Ballard     & https://static.www.nfl.com/image/private/f\\_auto,q\\_auto/league/uggql1lgrwzanbof6mfd\\\\\n",
       "\\end{tabular}\n"
      ],
      "text/markdown": [
       "\n",
       "A nflverse_data: 3 × 3\n",
       "\n",
       "| player_id &lt;chr&gt; | player_display_name &lt;chr&gt; | headshot_url &lt;chr&gt; |\n",
       "|---|---|---|\n",
       "| 00-0020245 | Mike Vick        | https://static.www.nfl.com/image/private/f_auto,q_auto/league/hrg4riwhpjbijfovsjrk |\n",
       "| 00-0024394 | Lawrence Vickers | NA                                                                                 |\n",
       "| 00-0029547 | Vick Ballard     | https://static.www.nfl.com/image/private/f_auto,q_auto/league/uggql1lgrwzanbof6mfd |\n",
       "\n"
      ],
      "text/plain": [
       "  player_id  player_display_name\n",
       "1 00-0020245 Mike Vick          \n",
       "2 00-0024394 Lawrence Vickers   \n",
       "3 00-0029547 Vick Ballard       \n",
       "  headshot_url                                                                      \n",
       "1 https://static.www.nfl.com/image/private/f_auto,q_auto/league/hrg4riwhpjbijfovsjrk\n",
       "2 NA                                                                                \n",
       "3 https://static.www.nfl.com/image/private/f_auto,q_auto/league/uggql1lgrwzanbof6mfd"
      ]
     },
     "metadata": {},
     "output_type": "display_data"
    },
    {
     "ename": "ERROR",
     "evalue": "Error in checkHT(n, dx <- dim(x)): argument \"x\" is missing, with no default\n",
     "output_type": "error",
     "traceback": [
      "Error in checkHT(n, dx <- dim(x)): argument \"x\" is missing, with no default\nTraceback:\n",
      "1. head()",
      "2. head.default()",
      "3. checkHT(n, dx <- dim(x))"
     ]
    }
   ],
   "source": [
    "data %>% \n",
    "    distinct(player_id, player_display_name, headshot_url) %>% \n",
    "    filter(str_detect(player_display_name, 'Vick')) \n",
    "    head()"
   ]
  },
  {
   "cell_type": "code",
   "execution_count": 28,
   "metadata": {
    "vscode": {
     "languageId": "r"
    }
   },
   "outputs": [],
   "source": [
    "players <- load_players()"
   ]
  },
  {
   "cell_type": "code",
   "execution_count": 42,
   "metadata": {
    "vscode": {
     "languageId": "r"
    }
   },
   "outputs": [
    {
     "data": {
      "text/html": [
       "<style>\n",
       ".list-inline {list-style: none; margin:0; padding: 0}\n",
       ".list-inline>li {display: inline-block}\n",
       ".list-inline>li:not(:last-child)::after {content: \"\\00b7\"; padding: 0 .5ex}\n",
       "</style>\n",
       "<ol class=list-inline><li>'birth_date'</li><li>'college_conference'</li><li>'college_name'</li><li>'current_team_id'</li><li>'display_name'</li><li>'draft_club'</li><li>'draft_number'</li><li>'draftround'</li><li>'entry_year'</li><li>'esb_id'</li><li>'first_name'</li><li>'football_name'</li><li>'gsis_id'</li><li>'gsis_it_id'</li><li>'jersey_number'</li><li>'last_name'</li><li>'position'</li><li>'position_group'</li><li>'rookie_year'</li><li>'status'</li><li>'status_description_abbr'</li><li>'status_short_description'</li><li>'team_abbr'</li><li>'team_seq'</li><li>'height'</li><li>'weight'</li><li>'years_of_experience'</li><li>'short_name'</li><li>'smart_id'</li><li>'headshot'</li><li>'uniform_number'</li><li>'suffix'</li></ol>\n"
      ],
      "text/latex": [
       "\\begin{enumerate*}\n",
       "\\item 'birth\\_date'\n",
       "\\item 'college\\_conference'\n",
       "\\item 'college\\_name'\n",
       "\\item 'current\\_team\\_id'\n",
       "\\item 'display\\_name'\n",
       "\\item 'draft\\_club'\n",
       "\\item 'draft\\_number'\n",
       "\\item 'draftround'\n",
       "\\item 'entry\\_year'\n",
       "\\item 'esb\\_id'\n",
       "\\item 'first\\_name'\n",
       "\\item 'football\\_name'\n",
       "\\item 'gsis\\_id'\n",
       "\\item 'gsis\\_it\\_id'\n",
       "\\item 'jersey\\_number'\n",
       "\\item 'last\\_name'\n",
       "\\item 'position'\n",
       "\\item 'position\\_group'\n",
       "\\item 'rookie\\_year'\n",
       "\\item 'status'\n",
       "\\item 'status\\_description\\_abbr'\n",
       "\\item 'status\\_short\\_description'\n",
       "\\item 'team\\_abbr'\n",
       "\\item 'team\\_seq'\n",
       "\\item 'height'\n",
       "\\item 'weight'\n",
       "\\item 'years\\_of\\_experience'\n",
       "\\item 'short\\_name'\n",
       "\\item 'smart\\_id'\n",
       "\\item 'headshot'\n",
       "\\item 'uniform\\_number'\n",
       "\\item 'suffix'\n",
       "\\end{enumerate*}\n"
      ],
      "text/markdown": [
       "1. 'birth_date'\n",
       "2. 'college_conference'\n",
       "3. 'college_name'\n",
       "4. 'current_team_id'\n",
       "5. 'display_name'\n",
       "6. 'draft_club'\n",
       "7. 'draft_number'\n",
       "8. 'draftround'\n",
       "9. 'entry_year'\n",
       "10. 'esb_id'\n",
       "11. 'first_name'\n",
       "12. 'football_name'\n",
       "13. 'gsis_id'\n",
       "14. 'gsis_it_id'\n",
       "15. 'jersey_number'\n",
       "16. 'last_name'\n",
       "17. 'position'\n",
       "18. 'position_group'\n",
       "19. 'rookie_year'\n",
       "20. 'status'\n",
       "21. 'status_description_abbr'\n",
       "22. 'status_short_description'\n",
       "23. 'team_abbr'\n",
       "24. 'team_seq'\n",
       "25. 'height'\n",
       "26. 'weight'\n",
       "27. 'years_of_experience'\n",
       "28. 'short_name'\n",
       "29. 'smart_id'\n",
       "30. 'headshot'\n",
       "31. 'uniform_number'\n",
       "32. 'suffix'\n",
       "\n",
       "\n"
      ],
      "text/plain": [
       " [1] \"birth_date\"               \"college_conference\"      \n",
       " [3] \"college_name\"             \"current_team_id\"         \n",
       " [5] \"display_name\"             \"draft_club\"              \n",
       " [7] \"draft_number\"             \"draftround\"              \n",
       " [9] \"entry_year\"               \"esb_id\"                  \n",
       "[11] \"first_name\"               \"football_name\"           \n",
       "[13] \"gsis_id\"                  \"gsis_it_id\"              \n",
       "[15] \"jersey_number\"            \"last_name\"               \n",
       "[17] \"position\"                 \"position_group\"          \n",
       "[19] \"rookie_year\"              \"status\"                  \n",
       "[21] \"status_description_abbr\"  \"status_short_description\"\n",
       "[23] \"team_abbr\"                \"team_seq\"                \n",
       "[25] \"height\"                   \"weight\"                  \n",
       "[27] \"years_of_experience\"      \"short_name\"              \n",
       "[29] \"smart_id\"                 \"headshot\"                \n",
       "[31] \"uniform_number\"           \"suffix\"                  "
      ]
     },
     "metadata": {},
     "output_type": "display_data"
    }
   ],
   "source": [
    "players %>%\n",
    "filter(str_detect(display_name, 'Vick')) %>% \n",
    "colnames()"
   ]
  },
  {
   "cell_type": "code",
   "execution_count": 11,
   "metadata": {
    "vscode": {
     "languageId": "r"
    }
   },
   "outputs": [
    {
     "name": "stderr",
     "output_type": "stream",
     "text": [
      "\u001b[1m\u001b[22mNew names:\n",
      "\u001b[36m•\u001b[39m `FantPt` -> `FantPt...3`\n",
      "\u001b[36m•\u001b[39m `FantPt` -> `FantPt...16`\n",
      "\u001b[36m•\u001b[39m `FantPt` -> `FantPt...18`\n",
      "\u001b[1mRows: \u001b[22m\u001b[34m478\u001b[39m \u001b[1mColumns: \u001b[22m\u001b[34m22\u001b[39m\n",
      "\u001b[36m──\u001b[39m \u001b[1mColumn specification\u001b[22m \u001b[36m────────────────────────────────────────────────────────\u001b[39m\n",
      "\u001b[1mDelimiter:\u001b[22m \",\"\n",
      "\u001b[31mchr\u001b[39m  (7): Player, Draft Team, College, Age, Pos, Team, ref_id\n",
      "\u001b[32mdbl\u001b[39m (15): Rk, FantPt...3, Round, Pick, Draft Year, From, To, G, GS, #Yrs, PB...\n",
      "\n",
      "\u001b[36mℹ\u001b[39m Use `spec()` to retrieve the full column specification for this data.\n",
      "\u001b[36mℹ\u001b[39m Specify the column types or set `show_col_types = FALSE` to quiet this message.\n"
     ]
    }
   ],
   "source": [
    "good_players_data <- read_csv('D:/ANALYTICS/whoheplayfornfl/good_players.csv') %>% \n",
    "janitor::clean_names()"
   ]
  },
  {
   "cell_type": "code",
   "execution_count": 37,
   "metadata": {
    "vscode": {
     "languageId": "r"
    }
   },
   "outputs": [
    {
     "data": {
      "text/html": [
       "<table class=\"dataframe\">\n",
       "<caption>A tibble: 6 × 24</caption>\n",
       "<thead>\n",
       "\t<tr><th scope=col>rk</th><th scope=col>player</th><th scope=col>fant_pt_3</th><th scope=col>draft_team</th><th scope=col>round</th><th scope=col>pick</th><th scope=col>draft_year</th><th scope=col>college</th><th scope=col>from</th><th scope=col>to</th><th scope=col>⋯</th><th scope=col>pb</th><th scope=col>fant_pt_16</th><th scope=col>ppr</th><th scope=col>fant_pt_18</th><th scope=col>ppr_g</th><th scope=col>pos</th><th scope=col>team</th><th scope=col>ref_id</th><th scope=col>draft_club</th><th scope=col>headshot</th></tr>\n",
       "\t<tr><th scope=col>&lt;dbl&gt;</th><th scope=col>&lt;chr&gt;</th><th scope=col>&lt;dbl&gt;</th><th scope=col>&lt;chr&gt;</th><th scope=col>&lt;dbl&gt;</th><th scope=col>&lt;dbl&gt;</th><th scope=col>&lt;dbl&gt;</th><th scope=col>&lt;chr&gt;</th><th scope=col>&lt;dbl&gt;</th><th scope=col>&lt;dbl&gt;</th><th scope=col>⋯</th><th scope=col>&lt;dbl&gt;</th><th scope=col>&lt;dbl&gt;</th><th scope=col>&lt;dbl&gt;</th><th scope=col>&lt;dbl&gt;</th><th scope=col>&lt;dbl&gt;</th><th scope=col>&lt;chr&gt;</th><th scope=col>&lt;chr&gt;</th><th scope=col>&lt;chr&gt;</th><th scope=col>&lt;chr&gt;</th><th scope=col>&lt;chr&gt;</th></tr>\n",
       "</thead>\n",
       "<tbody>\n",
       "\t<tr><td>101</td><td>Michael Vick   </td><td>870.2</td><td>ATL</td><td>1</td><td> 1</td><td>2001</td><td>Virginia Tech    </td><td>2010</td><td>2015</td><td>⋯</td><td>1</td><td>870.2</td><td> 870.2</td><td>15.27</td><td>15.27</td><td>QB</td><td>NYJPHIPIT</td><td>VickMi00</td><td>NA</td><td>NA</td></tr>\n",
       "\t<tr><td>107</td><td>Roddy White    </td><td>831.7</td><td>ATL</td><td>1</td><td>27</td><td>2005</td><td>UAB              </td><td>2010</td><td>2015</td><td>⋯</td><td>2</td><td>831.7</td><td>1324.7</td><td> 9.14</td><td>14.56</td><td>WR</td><td>ATL      </td><td>WhitRo00</td><td>NA</td><td>NA</td></tr>\n",
       "\t<tr><td>109</td><td>Steve Smith Sr.</td><td>829.3</td><td>CAR</td><td>3</td><td>74</td><td>2001</td><td>Utah             </td><td>2010</td><td>2016</td><td>⋯</td><td>1</td><td>829.3</td><td>1286.3</td><td> 8.46</td><td>13.13</td><td>WR</td><td>BALCAR   </td><td>SmitSt01</td><td>NA</td><td>NA</td></tr>\n",
       "\t<tr><td>111</td><td>Steven Jackson </td><td>790.7</td><td>STL</td><td>1</td><td>24</td><td>2004</td><td>Oregon State     </td><td>2010</td><td>2015</td><td>⋯</td><td>1</td><td>790.7</td><td> 970.7</td><td>10.40</td><td>12.77</td><td>RB</td><td>ATLNWESTL</td><td>JackSt00</td><td>NA</td><td>NA</td></tr>\n",
       "\t<tr><td>114</td><td>Andre Johnson  </td><td>787.5</td><td>HOU</td><td>1</td><td> 3</td><td>2003</td><td>Miami (FL)       </td><td>2010</td><td>2016</td><td>⋯</td><td>3</td><td>787.5</td><td>1262.5</td><td> 8.65</td><td>13.87</td><td>WR</td><td>HOUINDTEN</td><td>JohnAn02</td><td>NA</td><td>NA</td></tr>\n",
       "\t<tr><td>116</td><td>Vincent Jackson</td><td>768.5</td><td>SDG</td><td>2</td><td>61</td><td>2005</td><td>Northern Colorado</td><td>2010</td><td>2016</td><td>⋯</td><td>2</td><td>768.5</td><td>1110.5</td><td> 9.15</td><td>13.22</td><td>WR</td><td>SDGTAM   </td><td>JackVi00</td><td>NA</td><td>NA</td></tr>\n",
       "</tbody>\n",
       "</table>\n"
      ],
      "text/latex": [
       "A tibble: 6 × 24\n",
       "\\begin{tabular}{lllllllllllllllllllll}\n",
       " rk & player & fant\\_pt\\_3 & draft\\_team & round & pick & draft\\_year & college & from & to & ⋯ & pb & fant\\_pt\\_16 & ppr & fant\\_pt\\_18 & ppr\\_g & pos & team & ref\\_id & draft\\_club & headshot\\\\\n",
       " <dbl> & <chr> & <dbl> & <chr> & <dbl> & <dbl> & <dbl> & <chr> & <dbl> & <dbl> & ⋯ & <dbl> & <dbl> & <dbl> & <dbl> & <dbl> & <chr> & <chr> & <chr> & <chr> & <chr>\\\\\n",
       "\\hline\n",
       "\t 101 & Michael Vick    & 870.2 & ATL & 1 &  1 & 2001 & Virginia Tech     & 2010 & 2015 & ⋯ & 1 & 870.2 &  870.2 & 15.27 & 15.27 & QB & NYJPHIPIT & VickMi00 & NA & NA\\\\\n",
       "\t 107 & Roddy White     & 831.7 & ATL & 1 & 27 & 2005 & UAB               & 2010 & 2015 & ⋯ & 2 & 831.7 & 1324.7 &  9.14 & 14.56 & WR & ATL       & WhitRo00 & NA & NA\\\\\n",
       "\t 109 & Steve Smith Sr. & 829.3 & CAR & 3 & 74 & 2001 & Utah              & 2010 & 2016 & ⋯ & 1 & 829.3 & 1286.3 &  8.46 & 13.13 & WR & BALCAR    & SmitSt01 & NA & NA\\\\\n",
       "\t 111 & Steven Jackson  & 790.7 & STL & 1 & 24 & 2004 & Oregon State      & 2010 & 2015 & ⋯ & 1 & 790.7 &  970.7 & 10.40 & 12.77 & RB & ATLNWESTL & JackSt00 & NA & NA\\\\\n",
       "\t 114 & Andre Johnson   & 787.5 & HOU & 1 &  3 & 2003 & Miami (FL)        & 2010 & 2016 & ⋯ & 3 & 787.5 & 1262.5 &  8.65 & 13.87 & WR & HOUINDTEN & JohnAn02 & NA & NA\\\\\n",
       "\t 116 & Vincent Jackson & 768.5 & SDG & 2 & 61 & 2005 & Northern Colorado & 2010 & 2016 & ⋯ & 2 & 768.5 & 1110.5 &  9.15 & 13.22 & WR & SDGTAM    & JackVi00 & NA & NA\\\\\n",
       "\\end{tabular}\n"
      ],
      "text/markdown": [
       "\n",
       "A tibble: 6 × 24\n",
       "\n",
       "| rk &lt;dbl&gt; | player &lt;chr&gt; | fant_pt_3 &lt;dbl&gt; | draft_team &lt;chr&gt; | round &lt;dbl&gt; | pick &lt;dbl&gt; | draft_year &lt;dbl&gt; | college &lt;chr&gt; | from &lt;dbl&gt; | to &lt;dbl&gt; | ⋯ ⋯ | pb &lt;dbl&gt; | fant_pt_16 &lt;dbl&gt; | ppr &lt;dbl&gt; | fant_pt_18 &lt;dbl&gt; | ppr_g &lt;dbl&gt; | pos &lt;chr&gt; | team &lt;chr&gt; | ref_id &lt;chr&gt; | draft_club &lt;chr&gt; | headshot &lt;chr&gt; |\n",
       "|---|---|---|---|---|---|---|---|---|---|---|---|---|---|---|---|---|---|---|---|---|\n",
       "| 101 | Michael Vick    | 870.2 | ATL | 1 |  1 | 2001 | Virginia Tech     | 2010 | 2015 | ⋯ | 1 | 870.2 |  870.2 | 15.27 | 15.27 | QB | NYJPHIPIT | VickMi00 | NA | NA |\n",
       "| 107 | Roddy White     | 831.7 | ATL | 1 | 27 | 2005 | UAB               | 2010 | 2015 | ⋯ | 2 | 831.7 | 1324.7 |  9.14 | 14.56 | WR | ATL       | WhitRo00 | NA | NA |\n",
       "| 109 | Steve Smith Sr. | 829.3 | CAR | 3 | 74 | 2001 | Utah              | 2010 | 2016 | ⋯ | 1 | 829.3 | 1286.3 |  8.46 | 13.13 | WR | BALCAR    | SmitSt01 | NA | NA |\n",
       "| 111 | Steven Jackson  | 790.7 | STL | 1 | 24 | 2004 | Oregon State      | 2010 | 2015 | ⋯ | 1 | 790.7 |  970.7 | 10.40 | 12.77 | RB | ATLNWESTL | JackSt00 | NA | NA |\n",
       "| 114 | Andre Johnson   | 787.5 | HOU | 1 |  3 | 2003 | Miami (FL)        | 2010 | 2016 | ⋯ | 3 | 787.5 | 1262.5 |  8.65 | 13.87 | WR | HOUINDTEN | JohnAn02 | NA | NA |\n",
       "| 116 | Vincent Jackson | 768.5 | SDG | 2 | 61 | 2005 | Northern Colorado | 2010 | 2016 | ⋯ | 2 | 768.5 | 1110.5 |  9.15 | 13.22 | WR | SDGTAM    | JackVi00 | NA | NA |\n",
       "\n"
      ],
      "text/plain": [
       "  rk  player          fant_pt_3 draft_team round pick draft_year\n",
       "1 101 Michael Vick    870.2     ATL        1      1   2001      \n",
       "2 107 Roddy White     831.7     ATL        1     27   2005      \n",
       "3 109 Steve Smith Sr. 829.3     CAR        3     74   2001      \n",
       "4 111 Steven Jackson  790.7     STL        1     24   2004      \n",
       "5 114 Andre Johnson   787.5     HOU        1      3   2003      \n",
       "6 116 Vincent Jackson 768.5     SDG        2     61   2005      \n",
       "  college           from to   ⋯ pb fant_pt_16 ppr    fant_pt_18 ppr_g pos\n",
       "1 Virginia Tech     2010 2015 ⋯ 1  870.2       870.2 15.27      15.27 QB \n",
       "2 UAB               2010 2015 ⋯ 2  831.7      1324.7  9.14      14.56 WR \n",
       "3 Utah              2010 2016 ⋯ 1  829.3      1286.3  8.46      13.13 WR \n",
       "4 Oregon State      2010 2015 ⋯ 1  790.7       970.7 10.40      12.77 RB \n",
       "5 Miami (FL)        2010 2016 ⋯ 3  787.5      1262.5  8.65      13.87 WR \n",
       "6 Northern Colorado 2010 2016 ⋯ 2  768.5      1110.5  9.15      13.22 WR \n",
       "  team      ref_id   draft_club headshot\n",
       "1 NYJPHIPIT VickMi00 NA         NA      \n",
       "2 ATL       WhitRo00 NA         NA      \n",
       "3 BALCAR    SmitSt01 NA         NA      \n",
       "4 ATLNWESTL JackSt00 NA         NA      \n",
       "5 HOUINDTEN JohnAn02 NA         NA      \n",
       "6 SDGTAM    JackVi00 NA         NA      "
      ]
     },
     "metadata": {},
     "output_type": "display_data"
    }
   ],
   "source": [
    "good_players_data %>% \n",
    "    left_join(\n",
    "        players %>% select(draft_club, draft_number, draftround, entry_year, headshot),\n",
    "        by = c('draft_year' = 'entry_year', 'round' = 'draftround', 'pick' = 'draft_number')\n",
    "    ) %>% \n",
    "    filter(is.na(headshot)) %>% \n",
    "    head()"
   ]
  },
  {
   "cell_type": "code",
   "execution_count": 40,
   "metadata": {
    "vscode": {
     "languageId": "r"
    }
   },
   "outputs": [
    {
     "data": {
      "text/html": [
       "<table class=\"dataframe\">\n",
       "<caption>A nflverse_data: 28 × 2</caption>\n",
       "<thead>\n",
       "\t<tr><th scope=col>entry_year</th><th scope=col>n</th></tr>\n",
       "\t<tr><th scope=col>&lt;int&gt;</th><th scope=col>&lt;int&gt;</th></tr>\n",
       "</thead>\n",
       "<tbody>\n",
       "\t<tr><td>1996</td><td>    1</td></tr>\n",
       "\t<tr><td>1998</td><td>    4</td></tr>\n",
       "\t<tr><td>2000</td><td>    3</td></tr>\n",
       "\t<tr><td>2001</td><td>    1</td></tr>\n",
       "\t<tr><td>2002</td><td>    7</td></tr>\n",
       "\t<tr><td>2003</td><td>   12</td></tr>\n",
       "\t<tr><td>2004</td><td>   18</td></tr>\n",
       "\t<tr><td>2005</td><td>   34</td></tr>\n",
       "\t<tr><td>2006</td><td>   40</td></tr>\n",
       "\t<tr><td>2007</td><td>   40</td></tr>\n",
       "\t<tr><td>2008</td><td>   69</td></tr>\n",
       "\t<tr><td>2009</td><td>   91</td></tr>\n",
       "\t<tr><td>2010</td><td>  127</td></tr>\n",
       "\t<tr><td>2011</td><td>  160</td></tr>\n",
       "\t<tr><td>2012</td><td>  230</td></tr>\n",
       "\t<tr><td>2013</td><td>  307</td></tr>\n",
       "\t<tr><td>2014</td><td>  374</td></tr>\n",
       "\t<tr><td>2015</td><td>  448</td></tr>\n",
       "\t<tr><td>2016</td><td>  578</td></tr>\n",
       "\t<tr><td>2017</td><td>  804</td></tr>\n",
       "\t<tr><td>2018</td><td>  804</td></tr>\n",
       "\t<tr><td>2019</td><td>  806</td></tr>\n",
       "\t<tr><td>2020</td><td>  641</td></tr>\n",
       "\t<tr><td>2021</td><td>  559</td></tr>\n",
       "\t<tr><td>2022</td><td>  735</td></tr>\n",
       "\t<tr><td>2023</td><td>  752</td></tr>\n",
       "\t<tr><td>2024</td><td>  708</td></tr>\n",
       "\t<tr><td>  NA</td><td>12401</td></tr>\n",
       "</tbody>\n",
       "</table>\n"
      ],
      "text/latex": [
       "A nflverse\\_data: 28 × 2\n",
       "\\begin{tabular}{ll}\n",
       " entry\\_year & n\\\\\n",
       " <int> & <int>\\\\\n",
       "\\hline\n",
       "\t 1996 &     1\\\\\n",
       "\t 1998 &     4\\\\\n",
       "\t 2000 &     3\\\\\n",
       "\t 2001 &     1\\\\\n",
       "\t 2002 &     7\\\\\n",
       "\t 2003 &    12\\\\\n",
       "\t 2004 &    18\\\\\n",
       "\t 2005 &    34\\\\\n",
       "\t 2006 &    40\\\\\n",
       "\t 2007 &    40\\\\\n",
       "\t 2008 &    69\\\\\n",
       "\t 2009 &    91\\\\\n",
       "\t 2010 &   127\\\\\n",
       "\t 2011 &   160\\\\\n",
       "\t 2012 &   230\\\\\n",
       "\t 2013 &   307\\\\\n",
       "\t 2014 &   374\\\\\n",
       "\t 2015 &   448\\\\\n",
       "\t 2016 &   578\\\\\n",
       "\t 2017 &   804\\\\\n",
       "\t 2018 &   804\\\\\n",
       "\t 2019 &   806\\\\\n",
       "\t 2020 &   641\\\\\n",
       "\t 2021 &   559\\\\\n",
       "\t 2022 &   735\\\\\n",
       "\t 2023 &   752\\\\\n",
       "\t 2024 &   708\\\\\n",
       "\t   NA & 12401\\\\\n",
       "\\end{tabular}\n"
      ],
      "text/markdown": [
       "\n",
       "A nflverse_data: 28 × 2\n",
       "\n",
       "| entry_year &lt;int&gt; | n &lt;int&gt; |\n",
       "|---|---|\n",
       "| 1996 |     1 |\n",
       "| 1998 |     4 |\n",
       "| 2000 |     3 |\n",
       "| 2001 |     1 |\n",
       "| 2002 |     7 |\n",
       "| 2003 |    12 |\n",
       "| 2004 |    18 |\n",
       "| 2005 |    34 |\n",
       "| 2006 |    40 |\n",
       "| 2007 |    40 |\n",
       "| 2008 |    69 |\n",
       "| 2009 |    91 |\n",
       "| 2010 |   127 |\n",
       "| 2011 |   160 |\n",
       "| 2012 |   230 |\n",
       "| 2013 |   307 |\n",
       "| 2014 |   374 |\n",
       "| 2015 |   448 |\n",
       "| 2016 |   578 |\n",
       "| 2017 |   804 |\n",
       "| 2018 |   804 |\n",
       "| 2019 |   806 |\n",
       "| 2020 |   641 |\n",
       "| 2021 |   559 |\n",
       "| 2022 |   735 |\n",
       "| 2023 |   752 |\n",
       "| 2024 |   708 |\n",
       "|   NA | 12401 |\n",
       "\n"
      ],
      "text/plain": [
       "   entry_year n    \n",
       "1  1996           1\n",
       "2  1998           4\n",
       "3  2000           3\n",
       "4  2001           1\n",
       "5  2002           7\n",
       "6  2003          12\n",
       "7  2004          18\n",
       "8  2005          34\n",
       "9  2006          40\n",
       "10 2007          40\n",
       "11 2008          69\n",
       "12 2009          91\n",
       "13 2010         127\n",
       "14 2011         160\n",
       "15 2012         230\n",
       "16 2013         307\n",
       "17 2014         374\n",
       "18 2015         448\n",
       "19 2016         578\n",
       "20 2017         804\n",
       "21 2018         804\n",
       "22 2019         806\n",
       "23 2020         641\n",
       "24 2021         559\n",
       "25 2022         735\n",
       "26 2023         752\n",
       "27 2024         708\n",
       "28   NA       12401"
      ]
     },
     "metadata": {},
     "output_type": "display_data"
    }
   ],
   "source": [
    "players %>% \n",
    "    count(entry_year)"
   ]
  }
 ],
 "metadata": {
  "kernelspec": {
   "display_name": "R",
   "language": "R",
   "name": "ir"
  },
  "language_info": {
   "codemirror_mode": "r",
   "file_extension": ".r",
   "mimetype": "text/x-r-source",
   "name": "R",
   "pygments_lexer": "r",
   "version": "4.2.2"
  }
 },
 "nbformat": 4,
 "nbformat_minor": 2
}
